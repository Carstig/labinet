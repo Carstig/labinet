{
 "cells": [
  {
   "cell_type": "code",
   "execution_count": 1,
   "metadata": {},
   "outputs": [],
   "source": [
    "%load_ext autoreload\n",
    "%autoreload 1"
   ]
  },
  {
   "cell_type": "code",
   "execution_count": 2,
   "metadata": {},
   "outputs": [],
   "source": [
    "import os\n",
    "import cv2\n",
    "\n",
    "import sys\n",
    "from matplotlib import pyplot as plt\n",
    "from matplotlib.pyplot import imshow\n",
    "from PIL import Image\n",
    "import tensorflow as tf\n",
    "import numpy as np\n",
    "\n",
    "\n",
    "try:\n",
    "    from labinet.io_util import load_label_map\n",
    "    from labinet.io_util import load_model\n",
    "    import labinet.object_detect\n",
    "    import labinet.box\n",
    "except ImportError:\n",
    "    # This part is only required to run the notebook\n",
    "    # directory when the module itself is not installed.\n",
    "    #\n",
    "    # If you have the module installed, just use \"import labinet...\"\n",
    "    import os\n",
    "    import inspect\n",
    "    # the .travis.yml is coded so that we execute tests from within test subdir. Relative to 'test' the .py is found in ../source/dev\n",
    "    cmd_subfolder = os.path.realpath(os.path.abspath(os.path.join(os.path.split(inspect.getfile(inspect.currentframe()))[0], \"..\")))\n",
    "    if cmd_subfolder not in sys.path:\n",
    "        sys.path.insert(0, cmd_subfolder)\n",
    "    from labinet.io_util import load_label_map\n",
    "    from labinet.io_util import load_model\n",
    "    import labinet.object_detect\n",
    "    import labinet.box\n",
    "\n",
    "%aimport labinet.io_util\n",
    "%aimport labinet.object_detect\n",
    "%aimport labinet.box\n",
    "\n",
    "%matplotlib inline"
   ]
  },
  {
   "cell_type": "code",
   "execution_count": 3,
   "metadata": {},
   "outputs": [],
   "source": [
    "video = cv2.VideoCapture(0)"
   ]
  },
  {
   "cell_type": "code",
   "execution_count": null,
   "metadata": {},
   "outputs": [],
   "source": [
    "# Try capturing one frame\n",
    "ret, frame = video.read()\n",
    "if frame is None:\n",
    "    print(\"Error - did you connect your webcam?\")\n",
    "else:\n",
    "    cv2.imshow('object detection', cv2.resize(frame, (640,480)))\n",
    "    key_pressed = cv2.waitKey(25)\n",
    "    print(key_pressed)    "
   ]
  },
  {
   "cell_type": "code",
   "execution_count": 18,
   "metadata": {},
   "outputs": [],
   "source": [
    "# close the window again\n",
    "cv2.destroyAllWindows()\n",
    "video.release()"
   ]
  },
  {
   "cell_type": "markdown",
   "metadata": {},
   "source": [
    " ## Object Detection via Webcam\n",
    " Actually it is a loop to capture picture via webcam and to Object detection\n",
    " "
   ]
  },
  {
   "cell_type": "code",
   "execution_count": 4,
   "metadata": {},
   "outputs": [],
   "source": [
    "# Paths to model etc pp\n",
    "MODEL_NAME = 'inference_graph'   # the result from Step 6 Export Inference Graph\n",
    "# Size, in inches, of the output images.\n",
    "IMAGE_SIZE = (480, 640)\n",
    "CWD_PATH = os.path.join(os.getcwd(),'..')  # should become gitbase\n",
    "NUM_CLASSES = 1\n",
    "# model\n",
    "PATH_TO_MODEL = os.path.join(CWD_PATH, MODEL_NAME, 'frozen_inference_graph.pb')\n",
    "# label map\n",
    "LABEL_MAP = os.path.join(CWD_PATH, 'data', 'object-detection.pbtxt')\n"
   ]
  },
  {
   "cell_type": "code",
   "execution_count": 5,
   "metadata": {},
   "outputs": [],
   "source": [
    "# load model and labels\n",
    "detection_graph = load_model(PATH_TO_MODEL)\n",
    "categories, category_index = load_label_map(LABEL_MAP, NUM_CLASSES)"
   ]
  },
  {
   "cell_type": "code",
   "execution_count": 6,
   "metadata": {
    "scrolled": true
   },
   "outputs": [
    {
     "name": "stdout",
     "output_type": "stream",
     "text": [
      "set: num_detections:0\n",
      "set: detection_boxes:0\n",
      "set: detection_scores:0\n",
      "set: detection_classes:0\n",
      "set: image_tensor:0\n",
      "tensor:0 for image.shape=(x=640,y=480)\n"
     ]
    }
   ],
   "source": [
    "# prepare tensor dict for inference\n",
    "tensor_dict = labinet.object_detect.get_tensor_dict_with_masks(IMAGE_SIZE[1], IMAGE_SIZE[0], detection_graph)\n",
    "image_tensor = tensor_dict['image_tensor']\n",
    "config = tf.ConfigProto()\n",
    "config.gpu_options.allow_growth=True"
   ]
  },
  {
   "cell_type": "code",
   "execution_count": 32,
   "metadata": {},
   "outputs": [],
   "source": [
    "# Prepare the Cam!\n",
    "video = cv2.VideoCapture(0)\n",
    "ret, frame = video.read()\n",
    "if frame is None:\n",
    "    print(\"Error - did you connect your webcam?\")"
   ]
  },
  {
   "cell_type": "code",
   "execution_count": 7,
   "metadata": {},
   "outputs": [],
   "source": [
    "%aimport labinet.object_detect\n",
    "import cv2"
   ]
  },
  {
   "cell_type": "code",
   "execution_count": null,
   "metadata": {},
   "outputs": [],
   "source": [
    "with tf.Session(graph=detection_graph, config=config) as sess:\n",
    "    # capture\n",
    "    while(True):\n",
    "        ret, frame = video.read()\n",
    "        #print(f\"Captured frame.shape={frame.shape} - type(frame)={type(frame)}\")\n",
    "        image_np_exp = np.expand_dims(frame, axis=0) \n",
    "        #print(f'np-frame.shape={image_np_exp.shape}')\n",
    "        # inference\n",
    "        output_dict = sess.run(tensor_dict, feed_dict={image_tensor: image_np_exp})\n",
    "        labinet.object_detect.convert_output_dict(output_dict)\n",
    "        # visualize boxes\n",
    "        image_with_boxes = labinet.object_detect.visualize_boxes_after_detection(frame, output_dict, category_index)\n",
    "        # show image\n",
    "        cv2.imshow('Detection Running...', cv2.resize(image_with_boxes,(IMAGE_SIZE[1],IMAGE_SIZE[0])))\n",
    "        #cv2.waitKey(25)\n",
    "        if cv2.waitKey(25) == ord('q'):\n",
    "            break               \n",
    "    \n"
   ]
  },
  {
   "cell_type": "code",
   "execution_count": 35,
   "metadata": {},
   "outputs": [],
   "source": [
    "video.release()\n",
    "cv2.destroyAllWindows()"
   ]
  },
  {
   "cell_type": "code",
   "execution_count": 16,
   "metadata": {},
   "outputs": [],
   "source": []
  },
  {
   "cell_type": "code",
   "execution_count": null,
   "metadata": {},
   "outputs": [],
   "source": []
  }
 ],
 "metadata": {
  "kernelspec": {
   "display_name": "Python 3.6 (tensorflow-gpu)",
   "language": "python",
   "name": "tensorflow"
  },
  "language_info": {
   "codemirror_mode": {
    "name": "ipython",
    "version": 3
   },
   "file_extension": ".py",
   "mimetype": "text/x-python",
   "name": "python",
   "nbconvert_exporter": "python",
   "pygments_lexer": "ipython3",
   "version": "3.6.8"
  }
 },
 "nbformat": 4,
 "nbformat_minor": 2
}
