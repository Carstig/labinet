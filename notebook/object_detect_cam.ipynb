{
 "cells": [
  {
   "cell_type": "code",
   "execution_count": 1,
   "metadata": {},
   "outputs": [],
   "source": [
    "%load_ext autoreload\n",
    "%autoreload 1"
   ]
  },
  {
   "cell_type": "code",
   "execution_count": 2,
   "metadata": {},
   "outputs": [
    {
     "name": "stderr",
     "output_type": "stream",
     "text": [
      "/home/pi/.python-tf-env/lib/python3.5/site-packages/tensorflow/python/framework/dtypes.py:516: FutureWarning: Passing (type, 1) or '1type' as a synonym of type is deprecated; in a future version of numpy, it will be understood as (type, (1,)) / '(1,)type'.\n",
      "  _np_qint8 = np.dtype([(\"qint8\", np.int8, 1)])\n",
      "/home/pi/.python-tf-env/lib/python3.5/site-packages/tensorflow/python/framework/dtypes.py:517: FutureWarning: Passing (type, 1) or '1type' as a synonym of type is deprecated; in a future version of numpy, it will be understood as (type, (1,)) / '(1,)type'.\n",
      "  _np_quint8 = np.dtype([(\"quint8\", np.uint8, 1)])\n",
      "/home/pi/.python-tf-env/lib/python3.5/site-packages/tensorflow/python/framework/dtypes.py:518: FutureWarning: Passing (type, 1) or '1type' as a synonym of type is deprecated; in a future version of numpy, it will be understood as (type, (1,)) / '(1,)type'.\n",
      "  _np_qint16 = np.dtype([(\"qint16\", np.int16, 1)])\n",
      "/home/pi/.python-tf-env/lib/python3.5/site-packages/tensorflow/python/framework/dtypes.py:519: FutureWarning: Passing (type, 1) or '1type' as a synonym of type is deprecated; in a future version of numpy, it will be understood as (type, (1,)) / '(1,)type'.\n",
      "  _np_quint16 = np.dtype([(\"quint16\", np.uint16, 1)])\n",
      "/home/pi/.python-tf-env/lib/python3.5/site-packages/tensorflow/python/framework/dtypes.py:520: FutureWarning: Passing (type, 1) or '1type' as a synonym of type is deprecated; in a future version of numpy, it will be understood as (type, (1,)) / '(1,)type'.\n",
      "  _np_qint32 = np.dtype([(\"qint32\", np.int32, 1)])\n",
      "/home/pi/.python-tf-env/lib/python3.5/site-packages/tensorflow/python/framework/dtypes.py:525: FutureWarning: Passing (type, 1) or '1type' as a synonym of type is deprecated; in a future version of numpy, it will be understood as (type, (1,)) / '(1,)type'.\n",
      "  np_resource = np.dtype([(\"resource\", np.ubyte, 1)])\n",
      "/home/pi/.python-tf-env/lib/python3.5/site-packages/tensorboard/compat/tensorflow_stub/dtypes.py:541: FutureWarning: Passing (type, 1) or '1type' as a synonym of type is deprecated; in a future version of numpy, it will be understood as (type, (1,)) / '(1,)type'.\n",
      "  _np_qint8 = np.dtype([(\"qint8\", np.int8, 1)])\n",
      "/home/pi/.python-tf-env/lib/python3.5/site-packages/tensorboard/compat/tensorflow_stub/dtypes.py:542: FutureWarning: Passing (type, 1) or '1type' as a synonym of type is deprecated; in a future version of numpy, it will be understood as (type, (1,)) / '(1,)type'.\n",
      "  _np_quint8 = np.dtype([(\"quint8\", np.uint8, 1)])\n",
      "/home/pi/.python-tf-env/lib/python3.5/site-packages/tensorboard/compat/tensorflow_stub/dtypes.py:543: FutureWarning: Passing (type, 1) or '1type' as a synonym of type is deprecated; in a future version of numpy, it will be understood as (type, (1,)) / '(1,)type'.\n",
      "  _np_qint16 = np.dtype([(\"qint16\", np.int16, 1)])\n",
      "/home/pi/.python-tf-env/lib/python3.5/site-packages/tensorboard/compat/tensorflow_stub/dtypes.py:544: FutureWarning: Passing (type, 1) or '1type' as a synonym of type is deprecated; in a future version of numpy, it will be understood as (type, (1,)) / '(1,)type'.\n",
      "  _np_quint16 = np.dtype([(\"quint16\", np.uint16, 1)])\n",
      "/home/pi/.python-tf-env/lib/python3.5/site-packages/tensorboard/compat/tensorflow_stub/dtypes.py:545: FutureWarning: Passing (type, 1) or '1type' as a synonym of type is deprecated; in a future version of numpy, it will be understood as (type, (1,)) / '(1,)type'.\n",
      "  _np_qint32 = np.dtype([(\"qint32\", np.int32, 1)])\n",
      "/home/pi/.python-tf-env/lib/python3.5/site-packages/tensorboard/compat/tensorflow_stub/dtypes.py:550: FutureWarning: Passing (type, 1) or '1type' as a synonym of type is deprecated; in a future version of numpy, it will be understood as (type, (1,)) / '(1,)type'.\n",
      "  np_resource = np.dtype([(\"resource\", np.ubyte, 1)])\n"
     ]
    }
   ],
   "source": [
    "import os\n",
    "import sys\n",
    "import logging\n",
    "\n",
    "try:\n",
    "    import cv2\n",
    "except ImportError:\n",
    "    # on my raspi the opencv installation is only found here - but not in my virtualenv\n",
    "    sys.path.insert(0,'/usr/local/lib/python3.5/dist-packages/cv2/python-3.5')\n",
    "    \n",
    "#from matplotlib import pyplot as plt\n",
    "#from matplotlib.pyplot import imshow\n",
    "#from PIL import Image\n",
    "import tensorflow as tf\n",
    "import numpy as np\n",
    "\n",
    "logging.basicConfig(level=logging.DEBUG)\n"
   ]
  },
  {
   "cell_type": "code",
   "execution_count": 3,
   "metadata": {},
   "outputs": [
    {
     "name": "stdout",
     "output_type": "stream",
     "text": [
      "current folder is: /home/pi/labinet\n",
      "Import Done.\n"
     ]
    }
   ],
   "source": [
    "# If you have the module installed, just use \"import labinet...\"\n",
    "import inspect\n",
    "# the .travis.yml is coded so that we execute tests from within test subdir. Relative to 'test' the .py is found in ../source/dev\n",
    "cmd_subfolder = os.path.realpath(os.path.abspath(os.path.join(os.path.split(inspect.getfile(inspect.currentframe()))[0], \"..\")))\n",
    "print('current folder is: {}'.format(cmd_subfolder))\n",
    "if cmd_subfolder not in sys.path:\n",
    "    sys.path.insert(0, cmd_subfolder)\n",
    "    logging.debug('added to sys.path')\n",
    "import labinet.box\n",
    "import object_detection\n",
    "import object_detection.protos\n",
    "#import object_detection.protos.string_int_label_map_pb2\n",
    "print('Import Done.')"
   ]
  },
  {
   "cell_type": "code",
   "execution_count": null,
   "metadata": {},
   "outputs": [],
   "source": [
    "print(sys.path)"
   ]
  },
  {
   "cell_type": "code",
   "execution_count": 4,
   "metadata": {},
   "outputs": [],
   "source": [
    "from labinet.io_util import load_label_map\n",
    "from labinet.io_util import load_model\n"
   ]
  },
  {
   "cell_type": "code",
   "execution_count": 5,
   "metadata": {},
   "outputs": [],
   "source": [
    "%aimport labinet.io_util\n",
    "%aimport labinet.object_detect\n",
    "%aimport labinet.box\n"
   ]
  },
  {
   "cell_type": "code",
   "execution_count": 6,
   "metadata": {},
   "outputs": [],
   "source": [
    "try:\n",
    "    from labinet.io_util import load_label_map\n",
    "    from labinet.io_util import load_model\n",
    "    import labinet.object_detect\n",
    "    import labinet.box\n",
    "    logging.debug('Imported by default')\n",
    "except ImportError:\n",
    "    # This part is only required to run the notebook\n",
    "    # directory when the module itself is not installed.\n",
    "    #\n",
    "    # If you have the module installed, just use \"import labinet...\"\n",
    "    import inspect\n",
    "    # the .travis.yml is coded so that we execute tests from within test subdir. Relative to 'test' the .py is found in ../source/dev\n",
    "    cmd_subfolder = os.path.realpath(os.path.abspath(os.path.join(os.path.split(inspect.getfile(inspect.currentframe()))[0], \"..\")))\n",
    "#    print('current folder is: {}'.format(cmd_subfolder))\n",
    "    if cmd_subfolder not in sys.path:\n",
    "        sys.path.insert(0, cmd_subfolder)\n",
    "        logging.debug('added to sys.path')\n",
    "    from labinet.io_util import load_label_map\n",
    "    from labinet.io_util import load_model\n",
    "    import labinet.object_detect\n",
    "    import labinet.box\n",
    "\n",
    "%aimport labinet.io_util\n",
    "%aimport labinet.object_detect\n",
    "%aimport labinet.box\n",
    "\n",
    "%matplotlib inline"
   ]
  },
  {
   "cell_type": "code",
   "execution_count": 7,
   "metadata": {},
   "outputs": [],
   "source": [
    "#print(sys.path)\n",
    "#import object_detection.protos\n",
    "# from object_detection.protos import string_int_label_map_pb2\n",
    "import cv2"
   ]
  },
  {
   "cell_type": "code",
   "execution_count": null,
   "metadata": {},
   "outputs": [],
   "source": [
    "video = cv2.VideoCapture(0)"
   ]
  },
  {
   "cell_type": "code",
   "execution_count": null,
   "metadata": {},
   "outputs": [],
   "source": [
    "# Try capturing one frame\n",
    "ret, frame = video.read()\n",
    "if frame is None:\n",
    "    print(\"Error - did you connect your webcam?\")\n",
    "else:\n",
    "    cv2.imshow('object detection', cv2.resize(frame, (640,480)))\n",
    "    key_pressed = cv2.waitKey(25)\n",
    "    print(key_pressed)    "
   ]
  },
  {
   "cell_type": "code",
   "execution_count": null,
   "metadata": {},
   "outputs": [],
   "source": [
    "# close the window again\n",
    "cv2.destroyAllWindows()\n",
    "video.release()"
   ]
  },
  {
   "cell_type": "markdown",
   "metadata": {},
   "source": [
    " ## Object Detection via Webcam\n",
    " Actually it is a loop to capture picture via webcam and to Object detection\n",
    " "
   ]
  },
  {
   "cell_type": "code",
   "execution_count": 8,
   "metadata": {},
   "outputs": [],
   "source": [
    "# Paths to model etc pp\n",
    "MODEL_NAME = 'inference_graph'   # the result from Step 6 Export Inference Graph\n",
    "# Size, in inches, of the output images.\n",
    "IMAGE_SIZE = (480, 640)\n",
    "CWD_PATH = os.path.join(os.getcwd(),'..')  # should become gitbase\n",
    "NUM_CLASSES = 1\n",
    "# model\n",
    "PATH_TO_MODEL = os.path.join(CWD_PATH, MODEL_NAME, 'frozen_inference_graph.pb')\n",
    "# label map\n",
    "LABEL_MAP = os.path.join(CWD_PATH, 'data', 'object-detection.pbtxt')\n"
   ]
  },
  {
   "cell_type": "code",
   "execution_count": 9,
   "metadata": {},
   "outputs": [
    {
     "name": "stderr",
     "output_type": "stream",
     "text": [
      "WARNING: Logging before flag parsing goes to stderr.\n",
      "W0728 12:14:08.421109 1996322368 deprecation_wrapper.py:119] From /home/pi/labinet/labinet/io_util.py:15: The name tf.GraphDef is deprecated. Please use tf.compat.v1.GraphDef instead.\n",
      "\n",
      "W0728 12:14:08.427089 1996322368 deprecation_wrapper.py:119] From /home/pi/labinet/labinet/io_util.py:16: The name tf.gfile.GFile is deprecated. Please use tf.io.gfile.GFile instead.\n",
      "\n"
     ]
    }
   ],
   "source": [
    "# load model and labels\n",
    "detection_graph = load_model(PATH_TO_MODEL)\n",
    "categories, category_index = load_label_map(LABEL_MAP, NUM_CLASSES)"
   ]
  },
  {
   "cell_type": "code",
   "execution_count": 10,
   "metadata": {
    "scrolled": true
   },
   "outputs": [
    {
     "name": "stdout",
     "output_type": "stream",
     "text": [
      "set: num_detections:0\n",
      "set: detection_boxes:0\n",
      "set: detection_scores:0\n",
      "set: detection_classes:0\n",
      "set: image_tensor:0\n",
      "tensor:0 for image.shape=(x=640,y=480)\n"
     ]
    }
   ],
   "source": [
    "# prepare tensor dict for inference\n",
    "tensor_dict = labinet.object_detect.get_tensor_dict_with_masks(IMAGE_SIZE[1], IMAGE_SIZE[0], detection_graph)\n",
    "image_tensor = tensor_dict['image_tensor']\n",
    "config = tf.ConfigProto()\n",
    "#config.gpu_options.allow_growth=True"
   ]
  },
  {
   "cell_type": "code",
   "execution_count": 11,
   "metadata": {},
   "outputs": [],
   "source": [
    "# Prepare the Cam!\n",
    "video = cv2.VideoCapture(0)\n",
    "ret, frame = video.read()\n",
    "if frame is None:\n",
    "    print(\"Error - did you connect your webcam?\")"
   ]
  },
  {
   "cell_type": "code",
   "execution_count": null,
   "metadata": {},
   "outputs": [],
   "source": [
    "%aimport labinet.object_detect\n",
    "import cv2"
   ]
  },
  {
   "cell_type": "code",
   "execution_count": null,
   "metadata": {},
   "outputs": [],
   "source": [
    "with tf.Session(graph=detection_graph, config=config) as sess:\n",
    "    # capture\n",
    "    while(True):\n",
    "        ret, frame = video.read()\n",
    "        #print(f\"Captured frame.shape={frame.shape} - type(frame)={type(frame)}\")\n",
    "        image_np_exp = np.expand_dims(frame, axis=0) \n",
    "        #print(f'np-frame.shape={image_np_exp.shape}')\n",
    "        # inference\n",
    "        output_dict = sess.run(tensor_dict, feed_dict={image_tensor: image_np_exp})\n",
    "        labinet.object_detect.convert_output_dict(output_dict)\n",
    "        # visualize boxes\n",
    "        image_with_boxes = labinet.object_detect.visualize_boxes_after_detection(frame, output_dict, category_index)\n",
    "        # show image\n",
    "        cv2.imshow('Detection Running...', cv2.resize(image_with_boxes,(IMAGE_SIZE[1],IMAGE_SIZE[0])))\n",
    "        #cv2.waitKey(25)\n",
    "        if cv2.waitKey(25) == ord('q'):\n",
    "            break               \n",
    "    \n"
   ]
  },
  {
   "cell_type": "code",
   "execution_count": null,
   "metadata": {},
   "outputs": [],
   "source": [
    "video.release()\n",
    "cv2.destroyAllWindows()"
   ]
  },
  {
   "cell_type": "code",
   "execution_count": null,
   "metadata": {},
   "outputs": [],
   "source": []
  },
  {
   "cell_type": "code",
   "execution_count": null,
   "metadata": {},
   "outputs": [],
   "source": []
  }
 ],
 "metadata": {
  "kernelspec": {
   "display_name": "Python 3",
   "language": "python",
   "name": "python3"
  },
  "language_info": {
   "codemirror_mode": {
    "name": "ipython",
    "version": 3
   },
   "file_extension": ".py",
   "mimetype": "text/x-python",
   "name": "python",
   "nbconvert_exporter": "python",
   "pygments_lexer": "ipython3",
   "version": "3.5.3"
  }
 },
 "nbformat": 4,
 "nbformat_minor": 2
}
